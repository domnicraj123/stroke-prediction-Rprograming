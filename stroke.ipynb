{
 "cells": [
  {
   "cell_type": "markdown",
   "metadata": {},
   "source": [
    "## Imports"
   ]
  },
  {
   "cell_type": "code",
   "execution_count": 1,
   "metadata": {},
   "outputs": [
    {
     "name": "stderr",
     "output_type": "stream",
     "text": [
      "corrplot 0.92 loaded\n",
      "Warning message:\n",
      "\"package 'caTools' was built under R version 3.6.3\"randomForest 4.6-14\n",
      "Type rfNews() to see new features/changes/bug fixes.\n",
      "Loading required package: lattice\n",
      "Loading required package: ggplot2\n",
      "Registered S3 methods overwritten by 'ggplot2':\n",
      "  method         from \n",
      "  [.quosures     rlang\n",
      "  c.quosures     rlang\n",
      "  print.quosures rlang\n",
      "\n",
      "Attaching package: 'ggplot2'\n",
      "\n",
      "The following object is masked from 'package:randomForest':\n",
      "\n",
      "    margin\n",
      "\n"
     ]
    }
   ],
   "source": [
    "# Importing revelvant Packages\n",
    "library(corrplot)\n",
    "library(caTools)\n",
    "library(randomForest)\n",
    "library(caret)"
   ]
  },
  {
   "cell_type": "markdown",
   "metadata": {},
   "source": [
    "## importing dataset"
   ]
  },
  {
   "cell_type": "code",
   "execution_count": 2,
   "metadata": {},
   "outputs": [],
   "source": [
    "# Import the dataset\n",
    "df <- read.csv('stroke-data.csv')"
   ]
  },
  {
   "cell_type": "markdown",
   "metadata": {},
   "source": [
    "## Understanding the Data"
   ]
  },
  {
   "cell_type": "code",
   "execution_count": 3,
   "metadata": {},
   "outputs": [
    {
     "data": {
      "text/html": [
       "<table>\n",
       "<thead><tr><th scope=col>id</th><th scope=col>gender</th><th scope=col>age</th><th scope=col>hypertension</th><th scope=col>heart_disease</th><th scope=col>ever_married</th><th scope=col>work_type</th><th scope=col>Residence_type</th><th scope=col>avg_glucose_level</th><th scope=col>bmi</th><th scope=col>smoking_status</th><th scope=col>stroke</th></tr></thead>\n",
       "<tbody>\n",
       "\t<tr><td> 9046          </td><td>Male           </td><td>67             </td><td>0              </td><td>1              </td><td>Yes            </td><td>Private        </td><td>Urban          </td><td>228.69         </td><td>36.6           </td><td>formerly smoked</td><td>1              </td></tr>\n",
       "\t<tr><td>51676          </td><td>Female         </td><td>61             </td><td>0              </td><td>0              </td><td>Yes            </td><td>Self-employed  </td><td>Rural          </td><td>202.21         </td><td>N/A            </td><td>never smoked   </td><td>1              </td></tr>\n",
       "\t<tr><td>31112          </td><td>Male           </td><td>80             </td><td>0              </td><td>1              </td><td>Yes            </td><td>Private        </td><td>Rural          </td><td>105.92         </td><td>32.5           </td><td>never smoked   </td><td>1              </td></tr>\n",
       "\t<tr><td>60182          </td><td>Female         </td><td>49             </td><td>0              </td><td>0              </td><td>Yes            </td><td>Private        </td><td>Urban          </td><td>171.23         </td><td>34.4           </td><td>smokes         </td><td>1              </td></tr>\n",
       "\t<tr><td> 1665          </td><td>Female         </td><td>79             </td><td>1              </td><td>0              </td><td>Yes            </td><td>Self-employed  </td><td>Rural          </td><td>174.12         </td><td>24             </td><td>never smoked   </td><td>1              </td></tr>\n",
       "</tbody>\n",
       "</table>\n"
      ],
      "text/latex": [
       "\\begin{tabular}{r|llllllllllll}\n",
       " id & gender & age & hypertension & heart\\_disease & ever\\_married & work\\_type & Residence\\_type & avg\\_glucose\\_level & bmi & smoking\\_status & stroke\\\\\n",
       "\\hline\n",
       "\t  9046           & Male            & 67              & 0               & 1               & Yes             & Private         & Urban           & 228.69          & 36.6            & formerly smoked & 1              \\\\\n",
       "\t 51676           & Female          & 61              & 0               & 0               & Yes             & Self-employed   & Rural           & 202.21          & N/A             & never smoked    & 1              \\\\\n",
       "\t 31112           & Male            & 80              & 0               & 1               & Yes             & Private         & Rural           & 105.92          & 32.5            & never smoked    & 1              \\\\\n",
       "\t 60182           & Female          & 49              & 0               & 0               & Yes             & Private         & Urban           & 171.23          & 34.4            & smokes          & 1              \\\\\n",
       "\t  1665           & Female          & 79              & 1               & 0               & Yes             & Self-employed   & Rural           & 174.12          & 24              & never smoked    & 1              \\\\\n",
       "\\end{tabular}\n"
      ],
      "text/markdown": [
       "\n",
       "| id | gender | age | hypertension | heart_disease | ever_married | work_type | Residence_type | avg_glucose_level | bmi | smoking_status | stroke |\n",
       "|---|---|---|---|---|---|---|---|---|---|---|---|\n",
       "|  9046           | Male            | 67              | 0               | 1               | Yes             | Private         | Urban           | 228.69          | 36.6            | formerly smoked | 1               |\n",
       "| 51676           | Female          | 61              | 0               | 0               | Yes             | Self-employed   | Rural           | 202.21          | N/A             | never smoked    | 1               |\n",
       "| 31112           | Male            | 80              | 0               | 1               | Yes             | Private         | Rural           | 105.92          | 32.5            | never smoked    | 1               |\n",
       "| 60182           | Female          | 49              | 0               | 0               | Yes             | Private         | Urban           | 171.23          | 34.4            | smokes          | 1               |\n",
       "|  1665           | Female          | 79              | 1               | 0               | Yes             | Self-employed   | Rural           | 174.12          | 24              | never smoked    | 1               |\n",
       "\n"
      ],
      "text/plain": [
       "  id    gender age hypertension heart_disease ever_married work_type    \n",
       "1  9046 Male   67  0            1             Yes          Private      \n",
       "2 51676 Female 61  0            0             Yes          Self-employed\n",
       "3 31112 Male   80  0            1             Yes          Private      \n",
       "4 60182 Female 49  0            0             Yes          Private      \n",
       "5  1665 Female 79  1            0             Yes          Self-employed\n",
       "  Residence_type avg_glucose_level bmi  smoking_status  stroke\n",
       "1 Urban          228.69            36.6 formerly smoked 1     \n",
       "2 Rural          202.21            N/A  never smoked    1     \n",
       "3 Rural          105.92            32.5 never smoked    1     \n",
       "4 Urban          171.23            34.4 smokes          1     \n",
       "5 Rural          174.12            24   never smoked    1     "
      ]
     },
     "metadata": {},
     "output_type": "display_data"
    }
   ],
   "source": [
    "# Understanding the Data\n",
    "head(df,5)"
   ]
  },
  {
   "cell_type": "code",
   "execution_count": 4,
   "metadata": {},
   "outputs": [
    {
     "data": {
      "text/html": [
       "<table>\n",
       "<thead><tr><th></th><th scope=col>id</th><th scope=col>gender</th><th scope=col>age</th><th scope=col>hypertension</th><th scope=col>heart_disease</th><th scope=col>ever_married</th><th scope=col>work_type</th><th scope=col>Residence_type</th><th scope=col>avg_glucose_level</th><th scope=col>bmi</th><th scope=col>smoking_status</th><th scope=col>stroke</th></tr></thead>\n",
       "<tbody>\n",
       "\t<tr><th scope=row>5106</th><td>18234          </td><td>Female         </td><td>80             </td><td>1              </td><td>0              </td><td>Yes            </td><td>Private        </td><td>Urban          </td><td> 83.75         </td><td>N/A            </td><td>never smoked   </td><td>0              </td></tr>\n",
       "\t<tr><th scope=row>5107</th><td>44873          </td><td>Female         </td><td>81             </td><td>0              </td><td>0              </td><td>Yes            </td><td>Self-employed  </td><td>Urban          </td><td>125.20         </td><td>40             </td><td>never smoked   </td><td>0              </td></tr>\n",
       "\t<tr><th scope=row>5108</th><td>19723          </td><td>Female         </td><td>35             </td><td>0              </td><td>0              </td><td>Yes            </td><td>Self-employed  </td><td>Rural          </td><td> 82.99         </td><td>30.6           </td><td>never smoked   </td><td>0              </td></tr>\n",
       "\t<tr><th scope=row>5109</th><td>37544          </td><td>Male           </td><td>51             </td><td>0              </td><td>0              </td><td>Yes            </td><td>Private        </td><td>Rural          </td><td>166.29         </td><td>25.6           </td><td>formerly smoked</td><td>0              </td></tr>\n",
       "\t<tr><th scope=row>5110</th><td>44679          </td><td>Female         </td><td>44             </td><td>0              </td><td>0              </td><td>Yes            </td><td>Govt_job       </td><td>Urban          </td><td> 85.28         </td><td>26.2           </td><td>Unknown        </td><td>0              </td></tr>\n",
       "</tbody>\n",
       "</table>\n"
      ],
      "text/latex": [
       "\\begin{tabular}{r|llllllllllll}\n",
       "  & id & gender & age & hypertension & heart\\_disease & ever\\_married & work\\_type & Residence\\_type & avg\\_glucose\\_level & bmi & smoking\\_status & stroke\\\\\n",
       "\\hline\n",
       "\t5106 & 18234           & Female          & 80              & 1               & 0               & Yes             & Private         & Urban           &  83.75          & N/A             & never smoked    & 0              \\\\\n",
       "\t5107 & 44873           & Female          & 81              & 0               & 0               & Yes             & Self-employed   & Urban           & 125.20          & 40              & never smoked    & 0              \\\\\n",
       "\t5108 & 19723           & Female          & 35              & 0               & 0               & Yes             & Self-employed   & Rural           &  82.99          & 30.6            & never smoked    & 0              \\\\\n",
       "\t5109 & 37544           & Male            & 51              & 0               & 0               & Yes             & Private         & Rural           & 166.29          & 25.6            & formerly smoked & 0              \\\\\n",
       "\t5110 & 44679           & Female          & 44              & 0               & 0               & Yes             & Govt\\_job      & Urban           &  85.28          & 26.2            & Unknown         & 0              \\\\\n",
       "\\end{tabular}\n"
      ],
      "text/markdown": [
       "\n",
       "| <!--/--> | id | gender | age | hypertension | heart_disease | ever_married | work_type | Residence_type | avg_glucose_level | bmi | smoking_status | stroke |\n",
       "|---|---|---|---|---|---|---|---|---|---|---|---|---|\n",
       "| 5106 | 18234           | Female          | 80              | 1               | 0               | Yes             | Private         | Urban           |  83.75          | N/A             | never smoked    | 0               |\n",
       "| 5107 | 44873           | Female          | 81              | 0               | 0               | Yes             | Self-employed   | Urban           | 125.20          | 40              | never smoked    | 0               |\n",
       "| 5108 | 19723           | Female          | 35              | 0               | 0               | Yes             | Self-employed   | Rural           |  82.99          | 30.6            | never smoked    | 0               |\n",
       "| 5109 | 37544           | Male            | 51              | 0               | 0               | Yes             | Private         | Rural           | 166.29          | 25.6            | formerly smoked | 0               |\n",
       "| 5110 | 44679           | Female          | 44              | 0               | 0               | Yes             | Govt_job        | Urban           |  85.28          | 26.2            | Unknown         | 0               |\n",
       "\n"
      ],
      "text/plain": [
       "     id    gender age hypertension heart_disease ever_married work_type    \n",
       "5106 18234 Female 80  1            0             Yes          Private      \n",
       "5107 44873 Female 81  0            0             Yes          Self-employed\n",
       "5108 19723 Female 35  0            0             Yes          Self-employed\n",
       "5109 37544 Male   51  0            0             Yes          Private      \n",
       "5110 44679 Female 44  0            0             Yes          Govt_job     \n",
       "     Residence_type avg_glucose_level bmi  smoking_status  stroke\n",
       "5106 Urban           83.75            N/A  never smoked    0     \n",
       "5107 Urban          125.20            40   never smoked    0     \n",
       "5108 Rural           82.99            30.6 never smoked    0     \n",
       "5109 Rural          166.29            25.6 formerly smoked 0     \n",
       "5110 Urban           85.28            26.2 Unknown         0     "
      ]
     },
     "metadata": {},
     "output_type": "display_data"
    }
   ],
   "source": [
    "tail(df,5)"
   ]
  },
  {
   "cell_type": "code",
   "execution_count": 5,
   "metadata": {},
   "outputs": [
    {
     "data": {
      "text/html": [
       "5110"
      ],
      "text/latex": [
       "5110"
      ],
      "text/markdown": [
       "5110"
      ],
      "text/plain": [
       "[1] 5110"
      ]
     },
     "metadata": {},
     "output_type": "display_data"
    }
   ],
   "source": [
    "nrow(df)"
   ]
  },
  {
   "cell_type": "code",
   "execution_count": 6,
   "metadata": {},
   "outputs": [
    {
     "data": {
      "text/html": [
       "12"
      ],
      "text/latex": [
       "12"
      ],
      "text/markdown": [
       "12"
      ],
      "text/plain": [
       "[1] 12"
      ]
     },
     "metadata": {},
     "output_type": "display_data"
    }
   ],
   "source": [
    "ncol(df)"
   ]
  },
  {
   "cell_type": "code",
   "execution_count": 7,
   "metadata": {},
   "outputs": [
    {
     "data": {
      "text/html": [
       "<ol class=list-inline>\n",
       "\t<li>'id'</li>\n",
       "\t<li>'gender'</li>\n",
       "\t<li>'age'</li>\n",
       "\t<li>'hypertension'</li>\n",
       "\t<li>'heart_disease'</li>\n",
       "\t<li>'ever_married'</li>\n",
       "\t<li>'work_type'</li>\n",
       "\t<li>'Residence_type'</li>\n",
       "\t<li>'avg_glucose_level'</li>\n",
       "\t<li>'bmi'</li>\n",
       "\t<li>'smoking_status'</li>\n",
       "\t<li>'stroke'</li>\n",
       "</ol>\n"
      ],
      "text/latex": [
       "\\begin{enumerate*}\n",
       "\\item 'id'\n",
       "\\item 'gender'\n",
       "\\item 'age'\n",
       "\\item 'hypertension'\n",
       "\\item 'heart\\_disease'\n",
       "\\item 'ever\\_married'\n",
       "\\item 'work\\_type'\n",
       "\\item 'Residence\\_type'\n",
       "\\item 'avg\\_glucose\\_level'\n",
       "\\item 'bmi'\n",
       "\\item 'smoking\\_status'\n",
       "\\item 'stroke'\n",
       "\\end{enumerate*}\n"
      ],
      "text/markdown": [
       "1. 'id'\n",
       "2. 'gender'\n",
       "3. 'age'\n",
       "4. 'hypertension'\n",
       "5. 'heart_disease'\n",
       "6. 'ever_married'\n",
       "7. 'work_type'\n",
       "8. 'Residence_type'\n",
       "9. 'avg_glucose_level'\n",
       "10. 'bmi'\n",
       "11. 'smoking_status'\n",
       "12. 'stroke'\n",
       "\n",
       "\n"
      ],
      "text/plain": [
       " [1] \"id\"                \"gender\"            \"age\"              \n",
       " [4] \"hypertension\"      \"heart_disease\"     \"ever_married\"     \n",
       " [7] \"work_type\"         \"Residence_type\"    \"avg_glucose_level\"\n",
       "[10] \"bmi\"               \"smoking_status\"    \"stroke\"           "
      ]
     },
     "metadata": {},
     "output_type": "display_data"
    }
   ],
   "source": [
    "colnames(df)"
   ]
  },
  {
   "cell_type": "code",
   "execution_count": 8,
   "metadata": {},
   "outputs": [
    {
     "data": {
      "text/html": [
       "FALSE"
      ],
      "text/latex": [
       "FALSE"
      ],
      "text/markdown": [
       "FALSE"
      ],
      "text/plain": [
       "[1] FALSE"
      ]
     },
     "metadata": {},
     "output_type": "display_data"
    }
   ],
   "source": [
    "any(is.na(df))"
   ]
  },
  {
   "cell_type": "code",
   "execution_count": 9,
   "metadata": {},
   "outputs": [
    {
     "name": "stdout",
     "output_type": "stream",
     "text": [
      "'data.frame':\t5110 obs. of  12 variables:\n",
      " $ id               : int  9046 51676 31112 60182 1665 56669 53882 10434 27419 60491 ...\n",
      " $ gender           : Factor w/ 2 levels \"Female\",\"Male\": 2 1 2 1 1 2 2 1 1 1 ...\n",
      " $ age              : num  67 61 80 49 79 81 74 69 59 78 ...\n",
      " $ hypertension     : int  0 0 0 0 1 0 1 0 0 0 ...\n",
      " $ heart_disease    : int  1 0 1 0 0 0 1 0 0 0 ...\n",
      " $ ever_married     : Factor w/ 2 levels \"No\",\"Yes\": 2 2 2 2 2 2 2 1 2 2 ...\n",
      " $ work_type        : Factor w/ 5 levels \"children\",\"Govt_job\",..: 4 5 4 4 5 4 4 4 4 4 ...\n",
      " $ Residence_type   : Factor w/ 2 levels \"Rural\",\"Urban\": 2 1 1 2 1 2 1 2 1 2 ...\n",
      " $ avg_glucose_level: num  229 202 106 171 174 ...\n",
      " $ bmi              : Factor w/ 419 levels \"10.3\",\"11.3\",..: 240 419 199 218 114 164 148 102 419 116 ...\n",
      " $ smoking_status   : Factor w/ 4 levels \"formerly smoked\",..: 1 2 2 3 2 1 2 2 4 4 ...\n",
      " $ stroke           : int  1 1 1 1 1 1 1 1 1 1 ...\n"
     ]
    }
   ],
   "source": [
    "str(df)"
   ]
  },
  {
   "cell_type": "code",
   "execution_count": 10,
   "metadata": {},
   "outputs": [
    {
     "data": {
      "text/plain": [
       "       id           gender          age         hypertension    \n",
       " Min.   :   67   Female:2995   Min.   : 0.08   Min.   :0.00000  \n",
       " 1st Qu.:17741   Male  :2115   1st Qu.:25.00   1st Qu.:0.00000  \n",
       " Median :36932                 Median :45.00   Median :0.00000  \n",
       " Mean   :36518                 Mean   :43.23   Mean   :0.09746  \n",
       " 3rd Qu.:54682                 3rd Qu.:61.00   3rd Qu.:0.00000  \n",
       " Max.   :72940                 Max.   :82.00   Max.   :1.00000  \n",
       "                                                                \n",
       " heart_disease     ever_married         work_type    Residence_type\n",
       " Min.   :0.00000   No :1757     children     : 687   Rural:2514    \n",
       " 1st Qu.:0.00000   Yes:3353     Govt_job     : 657   Urban:2596    \n",
       " Median :0.00000                Never_worked :  22                 \n",
       " Mean   :0.05401                Private      :2925                 \n",
       " 3rd Qu.:0.00000                Self-employed: 819                 \n",
       " Max.   :1.00000                                                   \n",
       "                                                                   \n",
       " avg_glucose_level      bmi               smoking_status     stroke       \n",
       " Min.   : 55.12    N/A    : 201   formerly smoked: 885   Min.   :0.00000  \n",
       " 1st Qu.: 77.25    28.7   :  41   never smoked   :1892   1st Qu.:0.00000  \n",
       " Median : 91.89    28.4   :  38   smokes         : 789   Median :0.00000  \n",
       " Mean   :106.15    26.1   :  37   Unknown        :1544   Mean   :0.04873  \n",
       " 3rd Qu.:114.09    26.7   :  37                          3rd Qu.:0.00000  \n",
       " Max.   :271.74    27.6   :  37                          Max.   :1.00000  \n",
       "                   (Other):4719                                           "
      ]
     },
     "metadata": {},
     "output_type": "display_data"
    }
   ],
   "source": [
    "summary(df)"
   ]
  },
  {
   "cell_type": "markdown",
   "metadata": {},
   "source": [
    "## Data Cleaning"
   ]
  },
  {
   "cell_type": "code",
   "execution_count": 11,
   "metadata": {},
   "outputs": [],
   "source": [
    "df[df$bmi == 'N/A',]$bmi <- NA"
   ]
  },
  {
   "cell_type": "code",
   "execution_count": 12,
   "metadata": {},
   "outputs": [],
   "source": [
    "df <- na.omit(df)"
   ]
  },
  {
   "cell_type": "code",
   "execution_count": 13,
   "metadata": {},
   "outputs": [],
   "source": [
    "df$hypertension <- as.numeric(df$hypertension)\n",
    "df$heart_disease <- as.numeric(df$heart_disease)\n",
    "df$stroke <- as.numeric(df$stroke)\n",
    "df$bmi <- as.character(df$bmi)\n",
    "df$bmi <- as.numeric(df$bmi)"
   ]
  },
  {
   "cell_type": "code",
   "execution_count": 14,
   "metadata": {},
   "outputs": [
    {
     "data": {
      "image/png": "[encoded data removed]",
      "text/plain": [
       "Plot with title \"\""
      ]
     },
     "metadata": {},
     "output_type": "display_data"
    }
   ],
   "source": [
    "num.cols <- sapply(df, is.numeric)\n",
    "cor.data <- cor(df[,num.cols])\n",
    "corrplot(cor.data,method='pie')"
   ]
  },
  {
   "cell_type": "code",
   "execution_count": 15,
   "metadata": {},
   "outputs": [],
   "source": [
    "df$bmi <- as.character(df$bmi)"
   ]
  },
  {
   "cell_type": "code",
   "execution_count": 16,
   "metadata": {},
   "outputs": [],
   "source": [
    "df$bmi <- as.numeric(df$bmi)\n",
    "df$hypertension <- sapply(df$hypertension,factor)\n",
    "df$heart_disease <- sapply(df$heart_disease,factor)\n",
    "df$stroke <- sapply(df$stroke,factor)\n",
    "df$work_type <- sapply(df$work_type,factor)"
   ]
  },
  {
   "cell_type": "code",
   "execution_count": 17,
   "metadata": {},
   "outputs": [
    {
     "data": {
      "text/plain": [
       "       id           gender          age        hypertension heart_disease\n",
       " Min.   :   77   Female:2898   Min.   : 0.08   0:4458       1: 243       \n",
       " 1st Qu.:18605   Male  :2011   1st Qu.:25.00   1: 451       0:4666       \n",
       " Median :37608                 Median :44.00                             \n",
       " Mean   :37064                 Mean   :42.87                             \n",
       " 3rd Qu.:55220                 3rd Qu.:60.00                             \n",
       " Max.   :72940                 Max.   :82.00                             \n",
       " ever_married         work_type    Residence_type avg_glucose_level\n",
       " No :1705     Private      :2811   Rural:2419     Min.   : 55.12   \n",
       " Yes:3204     Self-employed: 775   Urban:2490     1st Qu.: 77.07   \n",
       "              Govt_job     : 630                  Median : 91.68   \n",
       "              children     : 671                  Mean   :105.31   \n",
       "              Never_worked :  22                  3rd Qu.:113.57   \n",
       "                                                  Max.   :271.74   \n",
       "      bmi                smoking_status stroke  \n",
       " Min.   :10.30   formerly smoked: 837   1: 209  \n",
       " 1st Qu.:23.50   never smoked   :1852   0:4700  \n",
       " Median :28.10   smokes         : 737           \n",
       " Mean   :28.89   Unknown        :1483           \n",
       " 3rd Qu.:33.10                                  \n",
       " Max.   :97.60                                  "
      ]
     },
     "metadata": {},
     "output_type": "display_data"
    }
   ],
   "source": [
    "summary(df)"
   ]
  },
  {
   "cell_type": "code",
   "execution_count": 18,
   "metadata": {},
   "outputs": [
    {
     "data": {
      "text/html": [
       "<dl class=dl-horizontal>\n",
       "\t<dt>id</dt>\n",
       "\t\t<dd>'integer'</dd>\n",
       "\t<dt>gender</dt>\n",
       "\t\t<dd>'factor'</dd>\n",
       "\t<dt>age</dt>\n",
       "\t\t<dd>'numeric'</dd>\n",
       "\t<dt>hypertension</dt>\n",
       "\t\t<dd>'factor'</dd>\n",
       "\t<dt>heart_disease</dt>\n",
       "\t\t<dd>'factor'</dd>\n",
       "\t<dt>ever_married</dt>\n",
       "\t\t<dd>'factor'</dd>\n",
       "\t<dt>work_type</dt>\n",
       "\t\t<dd>'factor'</dd>\n",
       "\t<dt>Residence_type</dt>\n",
       "\t\t<dd>'factor'</dd>\n",
       "\t<dt>avg_glucose_level</dt>\n",
       "\t\t<dd>'numeric'</dd>\n",
       "\t<dt>bmi</dt>\n",
       "\t\t<dd>'numeric'</dd>\n",
       "\t<dt>smoking_status</dt>\n",
       "\t\t<dd>'factor'</dd>\n",
       "\t<dt>stroke</dt>\n",
       "\t\t<dd>'factor'</dd>\n",
       "</dl>\n"
      ],
      "text/latex": [
       "\\begin{description*}\n",
       "\\item[id] 'integer'\n",
       "\\item[gender] 'factor'\n",
       "\\item[age] 'numeric'\n",
       "\\item[hypertension] 'factor'\n",
       "\\item[heart\\textbackslash{}\\_disease] 'factor'\n",
       "\\item[ever\\textbackslash{}\\_married] 'factor'\n",
       "\\item[work\\textbackslash{}\\_type] 'factor'\n",
       "\\item[Residence\\textbackslash{}\\_type] 'factor'\n",
       "\\item[avg\\textbackslash{}\\_glucose\\textbackslash{}\\_level] 'numeric'\n",
       "\\item[bmi] 'numeric'\n",
       "\\item[smoking\\textbackslash{}\\_status] 'factor'\n",
       "\\item[stroke] 'factor'\n",
       "\\end{description*}\n"
      ],
      "text/markdown": [
       "id\n",
       ":   'integer'gender\n",
       ":   'factor'age\n",
       ":   'numeric'hypertension\n",
       ":   'factor'heart_disease\n",
       ":   'factor'ever_married\n",
       ":   'factor'work_type\n",
       ":   'factor'Residence_type\n",
       ":   'factor'avg_glucose_level\n",
       ":   'numeric'bmi\n",
       ":   'numeric'smoking_status\n",
       ":   'factor'stroke\n",
       ":   'factor'\n",
       "\n"
      ],
      "text/plain": [
       "               id            gender               age      hypertension \n",
       "        \"integer\"          \"factor\"         \"numeric\"          \"factor\" \n",
       "    heart_disease      ever_married         work_type    Residence_type \n",
       "         \"factor\"          \"factor\"          \"factor\"          \"factor\" \n",
       "avg_glucose_level               bmi    smoking_status            stroke \n",
       "        \"numeric\"         \"numeric\"          \"factor\"          \"factor\" "
      ]
     },
     "metadata": {},
     "output_type": "display_data"
    }
   ],
   "source": [
    "sapply(df,class)"
   ]
  },
  {
   "cell_type": "markdown",
   "metadata": {},
   "source": [
    "## Balancing the data"
   ]
  },
  {
   "cell_type": "code",
   "execution_count": 19,
   "metadata": {},
   "outputs": [],
   "source": [
    "df <- upSample(df[,-12],df$stroke,yname=\"stroke\")"
   ]
  },
  {
   "cell_type": "markdown",
   "metadata": {},
   "source": [
    "write.csv(df,\"D:\\\\2nd year\\\\intenship\\\\data science\\\\dataset\\\\stroke_after.csv\")"
   ]
  },
  {
   "cell_type": "markdown",
   "metadata": {},
   "source": [
    "## Train Test Split"
   ]
  },
  {
   "cell_type": "code",
   "execution_count": 20,
   "metadata": {},
   "outputs": [],
   "source": [
    "set.seed(7)\n",
    "sample <- sample.split(df,SplitRatio = 0.7)"
   ]
  },
  {
   "cell_type": "markdown",
   "metadata": {},
   "source": [
    "## Feature Scaling"
   ]
  },
  {
   "cell_type": "code",
   "execution_count": 21,
   "metadata": {},
   "outputs": [],
   "source": [
    "train <- subset(df,sample == T)\n",
    "test <- subset(df,sample == F)"
   ]
  },
  {
   "cell_type": "code",
   "execution_count": 22,
   "metadata": {},
   "outputs": [
    {
     "data": {
      "text/html": [
       "6267"
      ],
      "text/latex": [
       "6267"
      ],
      "text/markdown": [
       "6267"
      ],
      "text/plain": [
       "[1] 6267"
      ]
     },
     "metadata": {},
     "output_type": "display_data"
    }
   ],
   "source": [
    "nrow(train)"
   ]
  },
  {
   "cell_type": "code",
   "execution_count": 23,
   "metadata": {},
   "outputs": [
    {
     "data": {
      "text/html": [
       "3133"
      ],
      "text/latex": [
       "3133"
      ],
      "text/markdown": [
       "3133"
      ],
      "text/plain": [
       "[1] 3133"
      ]
     },
     "metadata": {},
     "output_type": "display_data"
    }
   ],
   "source": [
    "nrow(test)"
   ]
  },
  {
   "cell_type": "markdown",
   "metadata": {},
   "source": [
    "# MODELS"
   ]
  },
  {
   "cell_type": "markdown",
   "metadata": {},
   "source": [
    "## Random Forest"
   ]
  },
  {
   "cell_type": "code",
   "execution_count": 24,
   "metadata": {},
   "outputs": [],
   "source": [
    "rf.model <- randomForest(stroke ~ .-id , data = train,importance = TRUE)"
   ]
  },
  {
   "cell_type": "code",
   "execution_count": 25,
   "metadata": {},
   "outputs": [
    {
     "data": {
      "image/png": "[encoded data removed]",
      "text/plain": [
       "Plot with title \"rf.model\""
      ]
     },
     "metadata": {},
     "output_type": "display_data"
    }
   ],
   "source": [
    "plot(rf.model)"
   ]
  },
  {
   "cell_type": "code",
   "execution_count": 26,
   "metadata": {},
   "outputs": [
    {
     "name": "stdout",
     "output_type": "stream",
     "text": [
      "\n",
      "Call:\n",
      " randomForest(formula = stroke ~ age + hypertension + heart_disease +      work_type + avg_glucose_level + smoking_status, data = train,      ntree = 300, importance = TRUE, proximity = TRUE) \n",
      "               Type of random forest: classification\n",
      "                     Number of trees: 300\n",
      "No. of variables tried at each split: 2\n",
      "\n",
      "        OOB estimate of  error rate: 5.65%\n",
      "Confusion matrix:\n",
      "     1    0 class.error\n",
      "1 3119   14  0.00446856\n",
      "0  340 2794  0.10848756\n"
     ]
    }
   ],
   "source": [
    "rf.model1 <- randomForest(stroke ~ age+hypertension+heart_disease+work_type+avg_glucose_level+smoking_status ,\n",
    "                          data = train,\n",
    "                          ntree=300,\n",
    "                          importance = TRUE,\n",
    "                          proximity = TRUE)\n",
    "print(rf.model1)"
   ]
  },
  {
   "cell_type": "code",
   "execution_count": 27,
   "metadata": {},
   "outputs": [
    {
     "name": "stdout",
     "output_type": "stream",
     "text": [
      "Confusion Matrix and Statistics\n",
      "\n",
      "          Reference\n",
      "Prediction    1    0\n",
      "         1 1557  193\n",
      "         0   10 1373\n",
      "                                         \n",
      "               Accuracy : 0.9352         \n",
      "                 95% CI : (0.926, 0.9436)\n",
      "    No Information Rate : 0.5002         \n",
      "    P-Value [Acc > NIR] : < 2.2e-16      \n",
      "                                         \n",
      "                  Kappa : 0.8704         \n",
      "                                         \n",
      " Mcnemar's Test P-Value : < 2.2e-16      \n",
      "                                         \n",
      "            Sensitivity : 0.9936         \n",
      "            Specificity : 0.8768         \n",
      "         Pos Pred Value : 0.8897         \n",
      "         Neg Pred Value : 0.9928         \n",
      "             Prevalence : 0.5002         \n",
      "         Detection Rate : 0.4970         \n",
      "   Detection Prevalence : 0.5586         \n",
      "      Balanced Accuracy : 0.9352         \n",
      "                                         \n",
      "       'Positive' Class : 1              \n",
      "                                         \n"
     ]
    }
   ],
   "source": [
    "rf.pre1 <- predict(rf.model1,test)\n",
    "eva1 <- confusionMatrix(data=rf.pre1, reference = test$stroke)\n",
    "print(eva1)#pre"
   ]
  },
  {
   "cell_type": "code",
   "execution_count": 28,
   "metadata": {},
   "outputs": [
    {
     "name": "stdout",
     "output_type": "stream",
     "text": [
      "           TrueLabels\n",
      "Predictions    1    0\n",
      "          1 1557  193\n",
      "          0   10 1373\n",
      "Accuracy =  0.9352059\n",
      "Precision =  0.9927693\n",
      "Recall =  0.8767561\n",
      "F1 score =  0.9311631"
     ]
    }
   ],
   "source": [
    "# Confusion Matrix\n",
    "a1 <- table(Predictions = rf.pre1, TrueLabels = test$stroke)\n",
    "print(a1)\n",
    "#Accuracy\n",
    "acc1 <- ( a1[2,2] + a1[1,1] ) / (length(test$stroke))\n",
    "cat(\"Accuracy = \",acc1 )\n",
    "# Precision\n",
    "Precision1 =  a1[2,2] / ( a1[2,2] + a1[2,1] )\n",
    "cat(\"\\nPrecision = \",Precision1 )\n",
    "# Recall\n",
    "Recall1 =  a1[2,2] / ( a1[2,2] + a1[1,2] )\n",
    "cat(\"\\nRecall = \",Recall1 )\n",
    "# F1-score\n",
    "F1score1  = 2*(Recall1 * Precision1) / (Recall1 + Precision1)\n",
    "cat(\"\\nF1 score = \",F1score1 )"
   ]
  },
  {
   "cell_type": "markdown",
   "metadata": {},
   "source": [
    "## Confusion Matrix"
   ]
  },
  {
   "cell_type": "code",
   "execution_count": 29,
   "metadata": {},
   "outputs": [
    {
     "data": {
      "image/png": "[encoded data removed]",
      "text/plain": [
       "plot without title"
      ]
     },
     "metadata": {},
     "output_type": "display_data"
    }
   ],
   "source": [
    "fourfoldplot(a1, color = c(\"#CC6666\", \"#99CC99\"),conf.level = 0, margin = 1, main = \"Confusion Matrix - Random Forest\")"
   ]
  },
  {
   "cell_type": "markdown",
   "metadata": {},
   "source": [
    "## Logistic Regression"
   ]
  },
  {
   "cell_type": "code",
   "execution_count": 30,
   "metadata": {},
   "outputs": [
    {
     "data": {
      "text/plain": [
       "\n",
       "Call:\n",
       "glm(formula = stroke ~ age + hypertension + heart_disease + work_type + \n",
       "    avg_glucose_level + smoking_status, family = binomial(link = \"logit\"), \n",
       "    data = train)\n",
       "\n",
       "Deviance Residuals: \n",
       "     Min        1Q    Median        3Q       Max  \n",
       "-2.49031  -0.72377   0.00134   0.69472   2.56189  \n",
       "\n",
       "Coefficients:\n",
       "                             Estimate Std. Error z value Pr(>|z|)    \n",
       "(Intercept)                 4.580e+00  2.203e-01  20.795  < 2e-16 ***\n",
       "age                        -7.707e-02  2.487e-03 -30.991  < 2e-16 ***\n",
       "hypertension1              -7.383e-01  8.756e-02  -8.432  < 2e-16 ***\n",
       "heart_disease0              3.370e-01  1.109e-01   3.037  0.00239 ** \n",
       "work_typeSelf-employed      4.404e-01  8.388e-02   5.250 1.52e-07 ***\n",
       "work_typeGovt_job           1.930e-01  9.256e-02   2.085  0.03706 *  \n",
       "work_typechildren          -8.188e-01  2.908e-01  -2.816  0.00486 ** \n",
       "work_typeNever_worked       1.010e+01  1.471e+02   0.069  0.94526    \n",
       "avg_glucose_level          -4.752e-03  6.185e-04  -7.682 1.57e-14 ***\n",
       "smoking_statusnever smoked  2.082e-01  8.420e-02   2.472  0.01342 *  \n",
       "smoking_statussmokes       -2.055e-01  1.007e-01  -2.041  0.04130 *  \n",
       "smoking_statusUnknown       3.105e-01  1.043e-01   2.978  0.00290 ** \n",
       "---\n",
       "Signif. codes:  0 '***' 0.001 '**' 0.01 '*' 0.05 '.' 0.1 ' ' 1\n",
       "\n",
       "(Dispersion parameter for binomial family taken to be 1)\n",
       "\n",
       "    Null deviance: 8687.9  on 6266  degrees of freedom\n",
       "Residual deviance: 5865.4  on 6255  degrees of freedom\n",
       "AIC: 5889.4\n",
       "\n",
       "Number of Fisher Scoring iterations: 12\n"
      ]
     },
     "metadata": {},
     "output_type": "display_data"
    }
   ],
   "source": [
    "glm.model = glm(stroke ~ age+hypertension+heart_disease+work_type+avg_glucose_level+smoking_status,\n",
    "                family = binomial(link = 'logit'),\n",
    "                data = train)\n",
    "summary(glm.model)"
   ]
  },
  {
   "cell_type": "code",
   "execution_count": 31,
   "metadata": {},
   "outputs": [
    {
     "data": {
      "text/plain": [
       "Confusion Matrix and Statistics\n",
       "\n",
       "          Reference\n",
       "Prediction    1    0\n",
       "         1 1264  406\n",
       "         0  303 1160\n",
       "                                          \n",
       "               Accuracy : 0.7737          \n",
       "                 95% CI : (0.7586, 0.7883)\n",
       "    No Information Rate : 0.5002          \n",
       "    P-Value [Acc > NIR] : < 2.2e-16       \n",
       "                                          \n",
       "                  Kappa : 0.5474          \n",
       "                                          \n",
       " Mcnemar's Test P-Value : 0.0001278       \n",
       "                                          \n",
       "            Sensitivity : 0.8066          \n",
       "            Specificity : 0.7407          \n",
       "         Pos Pred Value : 0.7569          \n",
       "         Neg Pred Value : 0.7929          \n",
       "             Prevalence : 0.5002          \n",
       "         Detection Rate : 0.4034          \n",
       "   Detection Prevalence : 0.5330          \n",
       "      Balanced Accuracy : 0.7737          \n",
       "                                          \n",
       "       'Positive' Class : 1               \n",
       "                                          "
      ]
     },
     "metadata": {},
     "output_type": "display_data"
    }
   ],
   "source": [
    "glm.pre = predict(glm.model, newdata=test, type=\"response\")\n",
    "pre <- ifelse(glm.pre > 0.5,1,0)\n",
    "pre <- as.factor(pre)\n",
    "levels(pre) <- c(1,0)\n",
    "glm.eva <- confusionMatrix(data=pre, reference = test$stroke)\n",
    "glm.eva"
   ]
  },
  {
   "cell_type": "code",
   "execution_count": 32,
   "metadata": {},
   "outputs": [
    {
     "name": "stdout",
     "output_type": "stream",
     "text": [
      "           TrueLabels\n",
      "Predictions    1    0\n",
      "          1 1264  406\n",
      "          0  303 1160\n",
      "Accuracy =  0.7736993\n",
      "Precision =  0.7928913\n",
      "Recall =  0.7407407\n",
      "F1 score =  0.7659293"
     ]
    }
   ],
   "source": [
    "# Confusion Matrix\n",
    "a1 <- table(Predictions = rf.pre1, TrueLabels = test$stroke)\n",
    "print(a1)\n",
    "#Accuracy\n",
    "acc1 <- ( a1[2,2] + a1[1,1] ) / (length(test$stroke))\n",
    "cat(\"Accuracy = \",acc1 )\n",
    "# Precision\n",
    "Precision1 =  a1[2,2] / ( a1[2,2] + a1[2,1] )\n",
    "cat(\"\\nPrecision = \",Precision1 )\n",
    "# Recall\n",
    "Recall1 =  a1[2,2] / ( a1[2,2] + a1[1,2] )\n",
    "cat(\"\\nRecall = \",Recall1 )\n",
    "# F1-score\n",
    "F1score1  = 2*(Recall1 * Precision1) / (Recall1 + Precision1)\n",
    "cat(\"\\nF1 score = \",F1score1 )"
   ]
  },
  {
   "cell_type": "markdown",
   "metadata": {},
   "source": [
    "## Confusion Matrix"
   ]
  },
  {
   "cell_type": "code",
   "execution_count": 33,
   "metadata": {},
   "outputs": [
    {
     "data": {
      "image/png": "[encoded data removed]",
      "text/plain": [
       "plot without title"
      ]
     },
     "metadata": {},
     "output_type": "display_data"
    }
   ],
   "source": [
    "fourfoldplot(a1, color = c(\"#CC6666\", \"#99CC99\"),conf.level = 0, margin = 1, main = \"Confusion Matrix - Logistic Regression\")"
   ]
  },
  {
   "cell_type": "code",
   "execution_count": null,
   "metadata": {},
   "outputs": [],
   "source": []
  }
 ],
 "metadata": {
  "kernelspec": {
   "display_name": "R",
   "language": "R",
   "name": "ir"
  },
  "language_info": {
   "codemirror_mode": "r",
   "file_extension": ".r",
   "mimetype": "text/x-r-source",
   "name": "R",
   "pygments_lexer": "r",
   "version": "3.6.1"
  }
 },
 "nbformat": 4,
 "nbformat_minor": 4
}
